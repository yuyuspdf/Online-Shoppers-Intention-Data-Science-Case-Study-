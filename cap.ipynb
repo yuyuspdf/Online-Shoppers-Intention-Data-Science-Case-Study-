{
  "nbformat": 4,
  "nbformat_minor": 0,
  "metadata": {
    "colab": {
      "name": "cap.ipynb",
      "provenance": [],
      "collapsed_sections": [
        "kT_1HX5EXMPn",
        "e4bdAd9f-qsz"
      ],
      "authorship_tag": "ABX9TyOKRgRxzOpGCzeM4mlmV/gU"
    },
    "kernelspec": {
      "name": "python3",
      "display_name": "Python 3"
    }
  },
  "cells": [
    {
      "cell_type": "markdown",
      "metadata": {
        "id": "vm5el4GfVK1k",
        "colab_type": "text"
      },
      "source": [
        "## **Initiation**\n",
        "\n",
        "Install PyDrive and import related packages"
      ]
    },
    {
      "cell_type": "code",
      "metadata": {
        "id": "4h8zdpU1VMIp",
        "colab_type": "code",
        "colab": {}
      },
      "source": [
        "#Please run this first\n",
        "!pip install -U -q PyDrive\n",
        "from pydrive.auth import GoogleAuth\n",
        "from pydrive.drive import GoogleDrive\n",
        "from google.colab import auth\n",
        "from oauth2client.client import GoogleCredentials\n",
        "\n",
        "# Authenticate and create the PyDrive client.\n",
        "auth.authenticate_user()\n",
        "gauth = GoogleAuth()\n",
        "gauth.credentials = GoogleCredentials.get_application_default()\n",
        "drive = GoogleDrive(gauth)\n",
        "#import modules\n",
        "\n",
        "import numpy as np\n",
        "import pandas as pd\n",
        "# from statsmodels.formula.api import ols\n",
        "from statsmodels.formula.api import logit\n",
        "import matplotlib.pyplot as plt\n",
        "import sklearn \n",
        "\n",
        "import scipy.stats as spst\n",
        "from sklearn.utils import shuffle\n",
        "from sklearn import metrics\n",
        "\n",
        "#imbalanced-learn module\n",
        "import imblearn"
      ],
      "execution_count": 0,
      "outputs": []
    },
    {
      "cell_type": "markdown",
      "metadata": {
        "id": "qdRC4amaVZUi",
        "colab_type": "text"
      },
      "source": [
        "## **Data Loading**\n",
        "\n",
        "Load three datasets"
      ]
    },
    {
      "cell_type": "code",
      "metadata": {
        "id": "E_iwFhNMVbZ5",
        "colab_type": "code",
        "outputId": "27e8020b-5489-4a9b-f1b7-b90902a7ad0a",
        "colab": {
          "base_uri": "https://localhost:8080/",
          "height": 224
        }
      },
      "source": [
        "link=\"https://drive.google.com/open?id=1Eh9gP22ylXjRzxpnWInFhsM80XcDUjO7\"\n",
        "_,id=link.split(\"=\")\n",
        "downloaded = drive.CreateFile({'id':id}) \n",
        "downloaded.GetContentFile('online_shoppers_intention.csv')\n",
        "shoppers = pd.read_csv('online_shoppers_intention.csv')\n",
        "shoppers.head()"
      ],
      "execution_count": 3,
      "outputs": [
        {
          "output_type": "execute_result",
          "data": {
            "text/html": [
              "<div>\n",
              "<style scoped>\n",
              "    .dataframe tbody tr th:only-of-type {\n",
              "        vertical-align: middle;\n",
              "    }\n",
              "\n",
              "    .dataframe tbody tr th {\n",
              "        vertical-align: top;\n",
              "    }\n",
              "\n",
              "    .dataframe thead th {\n",
              "        text-align: right;\n",
              "    }\n",
              "</style>\n",
              "<table border=\"1\" class=\"dataframe\">\n",
              "  <thead>\n",
              "    <tr style=\"text-align: right;\">\n",
              "      <th></th>\n",
              "      <th>Administrative</th>\n",
              "      <th>Administrative_Duration</th>\n",
              "      <th>Informational</th>\n",
              "      <th>Informational_Duration</th>\n",
              "      <th>ProductRelated</th>\n",
              "      <th>ProductRelated_Duration</th>\n",
              "      <th>BounceRates</th>\n",
              "      <th>ExitRates</th>\n",
              "      <th>PageValues</th>\n",
              "      <th>SpecialDay</th>\n",
              "      <th>Month</th>\n",
              "      <th>OperatingSystems</th>\n",
              "      <th>Browser</th>\n",
              "      <th>Region</th>\n",
              "      <th>TrafficType</th>\n",
              "      <th>VisitorType</th>\n",
              "      <th>Weekend</th>\n",
              "      <th>Revenue</th>\n",
              "    </tr>\n",
              "  </thead>\n",
              "  <tbody>\n",
              "    <tr>\n",
              "      <th>0</th>\n",
              "      <td>0</td>\n",
              "      <td>0.0</td>\n",
              "      <td>0</td>\n",
              "      <td>0.0</td>\n",
              "      <td>1</td>\n",
              "      <td>0.000000</td>\n",
              "      <td>0.20</td>\n",
              "      <td>0.20</td>\n",
              "      <td>0.0</td>\n",
              "      <td>0.0</td>\n",
              "      <td>Feb</td>\n",
              "      <td>1</td>\n",
              "      <td>1</td>\n",
              "      <td>1</td>\n",
              "      <td>1</td>\n",
              "      <td>Returning_Visitor</td>\n",
              "      <td>False</td>\n",
              "      <td>False</td>\n",
              "    </tr>\n",
              "    <tr>\n",
              "      <th>1</th>\n",
              "      <td>0</td>\n",
              "      <td>0.0</td>\n",
              "      <td>0</td>\n",
              "      <td>0.0</td>\n",
              "      <td>2</td>\n",
              "      <td>64.000000</td>\n",
              "      <td>0.00</td>\n",
              "      <td>0.10</td>\n",
              "      <td>0.0</td>\n",
              "      <td>0.0</td>\n",
              "      <td>Feb</td>\n",
              "      <td>2</td>\n",
              "      <td>2</td>\n",
              "      <td>1</td>\n",
              "      <td>2</td>\n",
              "      <td>Returning_Visitor</td>\n",
              "      <td>False</td>\n",
              "      <td>False</td>\n",
              "    </tr>\n",
              "    <tr>\n",
              "      <th>2</th>\n",
              "      <td>0</td>\n",
              "      <td>0.0</td>\n",
              "      <td>0</td>\n",
              "      <td>0.0</td>\n",
              "      <td>1</td>\n",
              "      <td>0.000000</td>\n",
              "      <td>0.20</td>\n",
              "      <td>0.20</td>\n",
              "      <td>0.0</td>\n",
              "      <td>0.0</td>\n",
              "      <td>Feb</td>\n",
              "      <td>4</td>\n",
              "      <td>1</td>\n",
              "      <td>9</td>\n",
              "      <td>3</td>\n",
              "      <td>Returning_Visitor</td>\n",
              "      <td>False</td>\n",
              "      <td>False</td>\n",
              "    </tr>\n",
              "    <tr>\n",
              "      <th>3</th>\n",
              "      <td>0</td>\n",
              "      <td>0.0</td>\n",
              "      <td>0</td>\n",
              "      <td>0.0</td>\n",
              "      <td>2</td>\n",
              "      <td>2.666667</td>\n",
              "      <td>0.05</td>\n",
              "      <td>0.14</td>\n",
              "      <td>0.0</td>\n",
              "      <td>0.0</td>\n",
              "      <td>Feb</td>\n",
              "      <td>3</td>\n",
              "      <td>2</td>\n",
              "      <td>2</td>\n",
              "      <td>4</td>\n",
              "      <td>Returning_Visitor</td>\n",
              "      <td>False</td>\n",
              "      <td>False</td>\n",
              "    </tr>\n",
              "    <tr>\n",
              "      <th>4</th>\n",
              "      <td>0</td>\n",
              "      <td>0.0</td>\n",
              "      <td>0</td>\n",
              "      <td>0.0</td>\n",
              "      <td>10</td>\n",
              "      <td>627.500000</td>\n",
              "      <td>0.02</td>\n",
              "      <td>0.05</td>\n",
              "      <td>0.0</td>\n",
              "      <td>0.0</td>\n",
              "      <td>Feb</td>\n",
              "      <td>3</td>\n",
              "      <td>3</td>\n",
              "      <td>1</td>\n",
              "      <td>4</td>\n",
              "      <td>Returning_Visitor</td>\n",
              "      <td>True</td>\n",
              "      <td>False</td>\n",
              "    </tr>\n",
              "  </tbody>\n",
              "</table>\n",
              "</div>"
            ],
            "text/plain": [
              "   Administrative  Administrative_Duration  ...  Weekend  Revenue\n",
              "0               0                      0.0  ...    False    False\n",
              "1               0                      0.0  ...    False    False\n",
              "2               0                      0.0  ...    False    False\n",
              "3               0                      0.0  ...    False    False\n",
              "4               0                      0.0  ...     True    False\n",
              "\n",
              "[5 rows x 18 columns]"
            ]
          },
          "metadata": {
            "tags": []
          },
          "execution_count": 3
        }
      ]
    },
    {
      "cell_type": "code",
      "metadata": {
        "id": "1dr9ijM5XQpM",
        "colab_type": "code",
        "outputId": "38709674-3943-44a1-d9ac-814e5bb03a04",
        "colab": {
          "base_uri": "https://localhost:8080/",
          "height": 68
        }
      },
      "source": [
        "#Check If there is any Invalid Data\n",
        "\n",
        "#Data Clean: if Administrative = 0,\tAdministrative_Duration\tshould be 0\n",
        "filter1 = (shoppers['Administrative'] == 0) & (shoppers['Administrative_Duration'] != 0) \n",
        "print(shoppers[filter1].size)\n",
        "#Same for Informational \n",
        "filter2 = (shoppers['Informational'] == 0) & (shoppers['Informational_Duration'] != 0) \n",
        "print(shoppers[filter2].size)\n",
        "#Same for ProductRelated\n",
        "filter3 = (shoppers['ProductRelated'] == 0) & (shoppers['ProductRelated_Duration'] != 0) \n",
        "print(shoppers[filter3].size)"
      ],
      "execution_count": 4,
      "outputs": [
        {
          "output_type": "stream",
          "text": [
            "0\n",
            "0\n",
            "0\n"
          ],
          "name": "stdout"
        }
      ]
    },
    {
      "cell_type": "code",
      "metadata": {
        "id": "oQ_t6yspZ5Od",
        "colab_type": "code",
        "outputId": "bf29a4d7-1dae-44cb-de4b-1123d464f803",
        "colab": {
          "base_uri": "https://localhost:8080/",
          "height": 340
        }
      },
      "source": [
        "#check null in each column\n",
        "shoppers.isna().sum(axis = 0)\n"
      ],
      "execution_count": 5,
      "outputs": [
        {
          "output_type": "execute_result",
          "data": {
            "text/plain": [
              "Administrative             0\n",
              "Administrative_Duration    0\n",
              "Informational              0\n",
              "Informational_Duration     0\n",
              "ProductRelated             0\n",
              "ProductRelated_Duration    0\n",
              "BounceRates                0\n",
              "ExitRates                  0\n",
              "PageValues                 0\n",
              "SpecialDay                 0\n",
              "Month                      0\n",
              "OperatingSystems           0\n",
              "Browser                    0\n",
              "Region                     0\n",
              "TrafficType                0\n",
              "VisitorType                0\n",
              "Weekend                    0\n",
              "Revenue                    0\n",
              "dtype: int64"
            ]
          },
          "metadata": {
            "tags": []
          },
          "execution_count": 5
        }
      ]
    },
    {
      "cell_type": "code",
      "metadata": {
        "id": "r-uilvGNdF35",
        "colab_type": "code",
        "outputId": "53c33421-1e62-46eb-c346-5ce1afa46d17",
        "colab": {
          "base_uri": "https://localhost:8080/",
          "height": 34
        }
      },
      "source": [
        "shoppers.shape"
      ],
      "execution_count": 6,
      "outputs": [
        {
          "output_type": "execute_result",
          "data": {
            "text/plain": [
              "(12330, 18)"
            ]
          },
          "metadata": {
            "tags": []
          },
          "execution_count": 6
        }
      ]
    },
    {
      "cell_type": "code",
      "metadata": {
        "id": "tzds2qhedQM9",
        "colab_type": "code",
        "outputId": "5d46b2d3-bea7-475b-f652-e9f87ceead14",
        "colab": {
          "base_uri": "https://localhost:8080/",
          "height": 340
        }
      },
      "source": [
        "shoppers.dtypes"
      ],
      "execution_count": 7,
      "outputs": [
        {
          "output_type": "execute_result",
          "data": {
            "text/plain": [
              "Administrative               int64\n",
              "Administrative_Duration    float64\n",
              "Informational                int64\n",
              "Informational_Duration     float64\n",
              "ProductRelated               int64\n",
              "ProductRelated_Duration    float64\n",
              "BounceRates                float64\n",
              "ExitRates                  float64\n",
              "PageValues                 float64\n",
              "SpecialDay                 float64\n",
              "Month                       object\n",
              "OperatingSystems             int64\n",
              "Browser                      int64\n",
              "Region                       int64\n",
              "TrafficType                  int64\n",
              "VisitorType                 object\n",
              "Weekend                       bool\n",
              "Revenue                       bool\n",
              "dtype: object"
            ]
          },
          "metadata": {
            "tags": []
          },
          "execution_count": 7
        }
      ]
    },
    {
      "cell_type": "markdown",
      "metadata": {
        "id": "kT_1HX5EXMPn",
        "colab_type": "text"
      },
      "source": [
        "## **Basic Insights**\n"
      ]
    },
    {
      "cell_type": "markdown",
      "metadata": {
        "id": "gQ6g6GOqedYq",
        "colab_type": "text"
      },
      "source": [
        "**Audience**\n",
        "\n",
        "---\n",
        "\n"
      ]
    },
    {
      "cell_type": "code",
      "metadata": {
        "id": "6u-4tIj2e_NG",
        "colab_type": "code",
        "outputId": "1f657b41-bec3-4a84-9554-9301bbff17c1",
        "colab": {
          "base_uri": "https://localhost:8080/",
          "height": 85
        }
      },
      "source": [
        "shoppers['VisitorType'].value_counts()\n"
      ],
      "execution_count": 8,
      "outputs": [
        {
          "output_type": "execute_result",
          "data": {
            "text/plain": [
              "Returning_Visitor    10551\n",
              "New_Visitor           1694\n",
              "Other                   85\n",
              "Name: VisitorType, dtype: int64"
            ]
          },
          "metadata": {
            "tags": []
          },
          "execution_count": 8
        }
      ]
    },
    {
      "cell_type": "code",
      "metadata": {
        "id": "M8GVSGACbxMF",
        "colab_type": "code",
        "outputId": "e4b64809-28b4-48e4-a94c-31f18dcef313",
        "colab": {
          "base_uri": "https://localhost:8080/",
          "height": 313
        }
      },
      "source": [
        "# Pie chart\n",
        "labels = ['Returning Visitor', 'New Visitor ', 'Other ']\n",
        "sizes = [10551, 1694, 85]\n",
        "#colors\n",
        "colors = ['#ff9999','#66b3ff','#ffcc99']\n",
        " \n",
        "fig1, ax1 = plt.subplots()\n",
        "ax1.pie(sizes, colors = colors, labels=labels, autopct='%1.1f%%', startangle=90)\n",
        "#draw circle\n",
        "centre_circle = plt.Circle((0,0),0.50,fc='white')\n",
        "fig = plt.gcf()\n",
        "fig.gca().add_artist(centre_circle)\n",
        "# Equal aspect ratio ensures that pie is drawn as a circle\n",
        "ax1.axis('equal')  \n",
        "plt.tight_layout()\n",
        "plt.title('Visitor Types:',fontsize = 20,loc='left')\n",
        "plt.show()"
      ],
      "execution_count": 9,
      "outputs": [
        {
          "output_type": "display_data",
          "data": {
            "image/png": "[encoded data removed]",
            "text/plain": [
              "<Figure size 432x288 with 1 Axes>"
            ]
          },
          "metadata": {
            "tags": []
          }
        }
      ]
    },
    {
      "cell_type": "markdown",
      "metadata": {
        "id": "I7PJjLEHhMUH",
        "colab_type": "text"
      },
      "source": [
        "**Month**\n",
        "\n",
        "---\n",
        "\n"
      ]
    },
    {
      "cell_type": "code",
      "metadata": {
        "id": "z_ejo2yQgtnB",
        "colab_type": "code",
        "outputId": "2541c6c6-1e17-4456-c3ad-37909c44cbe1",
        "colab": {
          "base_uri": "https://localhost:8080/",
          "height": 204
        }
      },
      "source": [
        "shoppers['Month'].value_counts()"
      ],
      "execution_count": 10,
      "outputs": [
        {
          "output_type": "execute_result",
          "data": {
            "text/plain": [
              "May     3364\n",
              "Nov     2998\n",
              "Mar     1907\n",
              "Dec     1727\n",
              "Oct      549\n",
              "Sep      448\n",
              "Aug      433\n",
              "Jul      432\n",
              "June     288\n",
              "Feb      184\n",
              "Name: Month, dtype: int64"
            ]
          },
          "metadata": {
            "tags": []
          },
          "execution_count": 10
        }
      ]
    },
    {
      "cell_type": "code",
      "metadata": {
        "id": "e5lKuwxNhSFy",
        "colab_type": "code",
        "outputId": "be7b10c1-4300-4c23-f8bf-ceff528680e7",
        "colab": {
          "base_uri": "https://localhost:8080/",
          "height": 318
        }
      },
      "source": [
        "labels = ['Feb','Mar','May','June','July','Aug','Sep','Oct','Nov','Dec']\n",
        "sizes = [184,1907,3364,288,432,433,448,549,2998,1727]\n",
        "#colors\n",
        "colors = ['wheat','goldenrod','mediumseagreen','lavender','seagreen',\n",
        "          'tan','bisque','deepskyblue','plum','crimson']\n",
        " \n",
        "fig1, ax1 = plt.subplots()\n",
        "ax1.pie(sizes, colors = colors, labels=labels, autopct='%1.1f%%', startangle=90)\n",
        "#draw circle\n",
        "centre_circle = plt.Circle((0,0),0.5,fc='white')\n",
        "fig = plt.gcf()\n",
        "fig.gca().add_artist(centre_circle)\n",
        "# Equal aspect ratio ensures that pie is drawn as a circle\n",
        "ax1.axis('equal')  \n",
        "plt.tight_layout()\n",
        "plt.title('Month Types:',fontsize = 20,loc='left')\n",
        "plt.show()"
      ],
      "execution_count": 11,
      "outputs": [
        {
          "output_type": "display_data",
          "data": {
            "image/png": "[encoded data removed]",
            "text/plain": [
              "<Figure size 432x288 with 1 Axes>"
            ]
          },
          "metadata": {
            "tags": []
          }
        }
      ]
    },
    {
      "cell_type": "code",
      "metadata": {
        "id": "p-IdnNXVl9tQ",
        "colab_type": "code",
        "outputId": "70d2bac7-56ae-4a41-b499-cd4b268416ff",
        "colab": {
          "base_uri": "https://localhost:8080/",
          "height": 266
        }
      },
      "source": [
        "shoppers.groupby('SpecialDay').mean()[['Revenue']]"
      ],
      "execution_count": 12,
      "outputs": [
        {
          "output_type": "execute_result",
          "data": {
            "text/html": [
              "<div>\n",
              "<style scoped>\n",
              "    .dataframe tbody tr th:only-of-type {\n",
              "        vertical-align: middle;\n",
              "    }\n",
              "\n",
              "    .dataframe tbody tr th {\n",
              "        vertical-align: top;\n",
              "    }\n",
              "\n",
              "    .dataframe thead th {\n",
              "        text-align: right;\n",
              "    }\n",
              "</style>\n",
              "<table border=\"1\" class=\"dataframe\">\n",
              "  <thead>\n",
              "    <tr style=\"text-align: right;\">\n",
              "      <th></th>\n",
              "      <th>Revenue</th>\n",
              "    </tr>\n",
              "    <tr>\n",
              "      <th>SpecialDay</th>\n",
              "      <th></th>\n",
              "    </tr>\n",
              "  </thead>\n",
              "  <tbody>\n",
              "    <tr>\n",
              "      <th>0.0</th>\n",
              "      <td>0.165268</td>\n",
              "    </tr>\n",
              "    <tr>\n",
              "      <th>0.2</th>\n",
              "      <td>0.078652</td>\n",
              "    </tr>\n",
              "    <tr>\n",
              "      <th>0.4</th>\n",
              "      <td>0.053498</td>\n",
              "    </tr>\n",
              "    <tr>\n",
              "      <th>0.6</th>\n",
              "      <td>0.082621</td>\n",
              "    </tr>\n",
              "    <tr>\n",
              "      <th>0.8</th>\n",
              "      <td>0.033846</td>\n",
              "    </tr>\n",
              "    <tr>\n",
              "      <th>1.0</th>\n",
              "      <td>0.064935</td>\n",
              "    </tr>\n",
              "  </tbody>\n",
              "</table>\n",
              "</div>"
            ],
            "text/plain": [
              "             Revenue\n",
              "SpecialDay          \n",
              "0.0         0.165268\n",
              "0.2         0.078652\n",
              "0.4         0.053498\n",
              "0.6         0.082621\n",
              "0.8         0.033846\n",
              "1.0         0.064935"
            ]
          },
          "metadata": {
            "tags": []
          },
          "execution_count": 12
        }
      ]
    },
    {
      "cell_type": "code",
      "metadata": {
        "id": "pI7mEKPzl-Fq",
        "colab_type": "code",
        "outputId": "4a7c9108-a3af-4e8d-cabe-434f089e2eb1",
        "colab": {
          "base_uri": "https://localhost:8080/",
          "height": 390
        }
      },
      "source": [
        "shoppers.groupby('Month').mean()[['Revenue']]"
      ],
      "execution_count": 13,
      "outputs": [
        {
          "output_type": "execute_result",
          "data": {
            "text/html": [
              "<div>\n",
              "<style scoped>\n",
              "    .dataframe tbody tr th:only-of-type {\n",
              "        vertical-align: middle;\n",
              "    }\n",
              "\n",
              "    .dataframe tbody tr th {\n",
              "        vertical-align: top;\n",
              "    }\n",
              "\n",
              "    .dataframe thead th {\n",
              "        text-align: right;\n",
              "    }\n",
              "</style>\n",
              "<table border=\"1\" class=\"dataframe\">\n",
              "  <thead>\n",
              "    <tr style=\"text-align: right;\">\n",
              "      <th></th>\n",
              "      <th>Revenue</th>\n",
              "    </tr>\n",
              "    <tr>\n",
              "      <th>Month</th>\n",
              "      <th></th>\n",
              "    </tr>\n",
              "  </thead>\n",
              "  <tbody>\n",
              "    <tr>\n",
              "      <th>Aug</th>\n",
              "      <td>0.175520</td>\n",
              "    </tr>\n",
              "    <tr>\n",
              "      <th>Dec</th>\n",
              "      <td>0.125072</td>\n",
              "    </tr>\n",
              "    <tr>\n",
              "      <th>Feb</th>\n",
              "      <td>0.016304</td>\n",
              "    </tr>\n",
              "    <tr>\n",
              "      <th>Jul</th>\n",
              "      <td>0.152778</td>\n",
              "    </tr>\n",
              "    <tr>\n",
              "      <th>June</th>\n",
              "      <td>0.100694</td>\n",
              "    </tr>\n",
              "    <tr>\n",
              "      <th>Mar</th>\n",
              "      <td>0.100682</td>\n",
              "    </tr>\n",
              "    <tr>\n",
              "      <th>May</th>\n",
              "      <td>0.108502</td>\n",
              "    </tr>\n",
              "    <tr>\n",
              "      <th>Nov</th>\n",
              "      <td>0.253502</td>\n",
              "    </tr>\n",
              "    <tr>\n",
              "      <th>Oct</th>\n",
              "      <td>0.209472</td>\n",
              "    </tr>\n",
              "    <tr>\n",
              "      <th>Sep</th>\n",
              "      <td>0.191964</td>\n",
              "    </tr>\n",
              "  </tbody>\n",
              "</table>\n",
              "</div>"
            ],
            "text/plain": [
              "        Revenue\n",
              "Month          \n",
              "Aug    0.175520\n",
              "Dec    0.125072\n",
              "Feb    0.016304\n",
              "Jul    0.152778\n",
              "June   0.100694\n",
              "Mar    0.100682\n",
              "May    0.108502\n",
              "Nov    0.253502\n",
              "Oct    0.209472\n",
              "Sep    0.191964"
            ]
          },
          "metadata": {
            "tags": []
          },
          "execution_count": 13
        }
      ]
    },
    {
      "cell_type": "code",
      "metadata": {
        "colab_type": "code",
        "id": "D-X7d3r_v_Yl",
        "outputId": "d426bd70-3741-4101-a03f-a54bbd7c64c1",
        "colab": {
          "base_uri": "https://localhost:8080/",
          "height": 359
        }
      },
      "source": [
        "shoppers.groupby('Region').mean()[['Revenue']]"
      ],
      "execution_count": 14,
      "outputs": [
        {
          "output_type": "execute_result",
          "data": {
            "text/html": [
              "<div>\n",
              "<style scoped>\n",
              "    .dataframe tbody tr th:only-of-type {\n",
              "        vertical-align: middle;\n",
              "    }\n",
              "\n",
              "    .dataframe tbody tr th {\n",
              "        vertical-align: top;\n",
              "    }\n",
              "\n",
              "    .dataframe thead th {\n",
              "        text-align: right;\n",
              "    }\n",
              "</style>\n",
              "<table border=\"1\" class=\"dataframe\">\n",
              "  <thead>\n",
              "    <tr style=\"text-align: right;\">\n",
              "      <th></th>\n",
              "      <th>Revenue</th>\n",
              "    </tr>\n",
              "    <tr>\n",
              "      <th>Region</th>\n",
              "      <th></th>\n",
              "    </tr>\n",
              "  </thead>\n",
              "  <tbody>\n",
              "    <tr>\n",
              "      <th>1</th>\n",
              "      <td>0.161297</td>\n",
              "    </tr>\n",
              "    <tr>\n",
              "      <th>2</th>\n",
              "      <td>0.165493</td>\n",
              "    </tr>\n",
              "    <tr>\n",
              "      <th>3</th>\n",
              "      <td>0.145235</td>\n",
              "    </tr>\n",
              "    <tr>\n",
              "      <th>4</th>\n",
              "      <td>0.148054</td>\n",
              "    </tr>\n",
              "    <tr>\n",
              "      <th>5</th>\n",
              "      <td>0.163522</td>\n",
              "    </tr>\n",
              "    <tr>\n",
              "      <th>6</th>\n",
              "      <td>0.139130</td>\n",
              "    </tr>\n",
              "    <tr>\n",
              "      <th>7</th>\n",
              "      <td>0.156373</td>\n",
              "    </tr>\n",
              "    <tr>\n",
              "      <th>8</th>\n",
              "      <td>0.129032</td>\n",
              "    </tr>\n",
              "    <tr>\n",
              "      <th>9</th>\n",
              "      <td>0.168297</td>\n",
              "    </tr>\n",
              "  </tbody>\n",
              "</table>\n",
              "</div>"
            ],
            "text/plain": [
              "         Revenue\n",
              "Region          \n",
              "1       0.161297\n",
              "2       0.165493\n",
              "3       0.145235\n",
              "4       0.148054\n",
              "5       0.163522\n",
              "6       0.139130\n",
              "7       0.156373\n",
              "8       0.129032\n",
              "9       0.168297"
            ]
          },
          "metadata": {
            "tags": []
          },
          "execution_count": 14
        }
      ]
    },
    {
      "cell_type": "code",
      "metadata": {
        "id": "vGAI-AKFwHnM",
        "colab_type": "code",
        "outputId": "c9751fc0-5696-4e1b-8cd2-a1efcefb65c4",
        "colab": {
          "base_uri": "https://localhost:8080/",
          "height": 142
        }
      },
      "source": [
        "shoppers.groupby('Weekend').mean()[['Revenue']]"
      ],
      "execution_count": 15,
      "outputs": [
        {
          "output_type": "execute_result",
          "data": {
            "text/html": [
              "<div>\n",
              "<style scoped>\n",
              "    .dataframe tbody tr th:only-of-type {\n",
              "        vertical-align: middle;\n",
              "    }\n",
              "\n",
              "    .dataframe tbody tr th {\n",
              "        vertical-align: top;\n",
              "    }\n",
              "\n",
              "    .dataframe thead th {\n",
              "        text-align: right;\n",
              "    }\n",
              "</style>\n",
              "<table border=\"1\" class=\"dataframe\">\n",
              "  <thead>\n",
              "    <tr style=\"text-align: right;\">\n",
              "      <th></th>\n",
              "      <th>Revenue</th>\n",
              "    </tr>\n",
              "    <tr>\n",
              "      <th>Weekend</th>\n",
              "      <th></th>\n",
              "    </tr>\n",
              "  </thead>\n",
              "  <tbody>\n",
              "    <tr>\n",
              "      <th>False</th>\n",
              "      <td>0.148911</td>\n",
              "    </tr>\n",
              "    <tr>\n",
              "      <th>True</th>\n",
              "      <td>0.173989</td>\n",
              "    </tr>\n",
              "  </tbody>\n",
              "</table>\n",
              "</div>"
            ],
            "text/plain": [
              "          Revenue\n",
              "Weekend          \n",
              "False    0.148911\n",
              "True     0.173989"
            ]
          },
          "metadata": {
            "tags": []
          },
          "execution_count": 15
        }
      ]
    },
    {
      "cell_type": "code",
      "metadata": {
        "id": "1FaFWnaZwa9F",
        "colab_type": "code",
        "outputId": "f80c287a-2dde-445b-b464-8d53c574cab7",
        "colab": {
          "base_uri": "https://localhost:8080/",
          "height": 173
        }
      },
      "source": [
        "shoppers.groupby('VisitorType').mean()[['Revenue']]"
      ],
      "execution_count": 16,
      "outputs": [
        {
          "output_type": "execute_result",
          "data": {
            "text/html": [
              "<div>\n",
              "<style scoped>\n",
              "    .dataframe tbody tr th:only-of-type {\n",
              "        vertical-align: middle;\n",
              "    }\n",
              "\n",
              "    .dataframe tbody tr th {\n",
              "        vertical-align: top;\n",
              "    }\n",
              "\n",
              "    .dataframe thead th {\n",
              "        text-align: right;\n",
              "    }\n",
              "</style>\n",
              "<table border=\"1\" class=\"dataframe\">\n",
              "  <thead>\n",
              "    <tr style=\"text-align: right;\">\n",
              "      <th></th>\n",
              "      <th>Revenue</th>\n",
              "    </tr>\n",
              "    <tr>\n",
              "      <th>VisitorType</th>\n",
              "      <th></th>\n",
              "    </tr>\n",
              "  </thead>\n",
              "  <tbody>\n",
              "    <tr>\n",
              "      <th>New_Visitor</th>\n",
              "      <td>0.249115</td>\n",
              "    </tr>\n",
              "    <tr>\n",
              "      <th>Other</th>\n",
              "      <td>0.188235</td>\n",
              "    </tr>\n",
              "    <tr>\n",
              "      <th>Returning_Visitor</th>\n",
              "      <td>0.139323</td>\n",
              "    </tr>\n",
              "  </tbody>\n",
              "</table>\n",
              "</div>"
            ],
            "text/plain": [
              "                    Revenue\n",
              "VisitorType                \n",
              "New_Visitor        0.249115\n",
              "Other              0.188235\n",
              "Returning_Visitor  0.139323"
            ]
          },
          "metadata": {
            "tags": []
          },
          "execution_count": 16
        }
      ]
    },
    {
      "cell_type": "code",
      "metadata": {
        "id": "kUnkMdBxwdOR",
        "colab_type": "code",
        "colab": {}
      },
      "source": [
        ""
      ],
      "execution_count": 0,
      "outputs": []
    },
    {
      "cell_type": "markdown",
      "metadata": {
        "id": "v4N_VpzK0BZD",
        "colab_type": "text"
      },
      "source": [
        "# **Data Clean Before Prediction**"
      ]
    },
    {
      "cell_type": "code",
      "metadata": {
        "id": "T8SzMGja0Kq8",
        "colab_type": "code",
        "outputId": "b49104c3-2fb0-4034-ca0f-bd029a98e67e",
        "colab": {
          "base_uri": "https://localhost:8080/",
          "height": 363
        }
      },
      "source": [
        "\n",
        "#imbalanced dataset\n",
        "classes = shoppers['Revenue'].values * 1\n",
        "unique, counts = np.unique(classes, return_counts=True)\n",
        "\n",
        "prob_revenue = 1908/len(shoppers)\n",
        "print(\"The percentage of ending with transactions case only count for\",prob_revenue*100,\"%\")\n",
        "\n",
        "print(shoppers['Revenue'].value_counts())\n",
        "\n",
        "plt.bar(unique,counts)\n",
        "plt.title('Class Frequency')\n",
        "plt.xlabel('Class')\n",
        "plt.xticks([0,1],labels=('No','Yes'))\n",
        "plt.ylabel('Frequency')\n",
        "plt.show()"
      ],
      "execution_count": 17,
      "outputs": [
        {
          "output_type": "stream",
          "text": [
            "The percentage of ending with transactions case only count for 15.474452554744525 %\n",
            "False    10422\n",
            "True      1908\n",
            "Name: Revenue, dtype: int64\n"
          ],
          "name": "stdout"
        },
        {
          "output_type": "display_data",
          "data": {
            "image/png": "[encoded data removed]",
            "text/plain": [
              "<Figure size 432x288 with 1 Axes>"
            ]
          },
          "metadata": {
            "tags": [],
            "needs_background": "light"
          }
        }
      ]
    },
    {
      "cell_type": "markdown",
      "metadata": {
        "id": "zTLAQ9nMVp7b",
        "colab_type": "text"
      },
      "source": [
        "# **Split Data**"
      ]
    },
    {
      "cell_type": "code",
      "metadata": {
        "id": "1TVqQNkGVtGg",
        "colab_type": "code",
        "outputId": "6767ca65-7d4d-48ba-b396-cc4c36524ddc",
        "colab": {
          "base_uri": "https://localhost:8080/",
          "height": 607
        }
      },
      "source": [
        "#skewed data?\n",
        "fig, axs = plt.subplots(2, 5,figsize=(15,10))\n",
        "\n",
        "axs[0, 0].hist(shoppers['Administrative'].values)\n",
        "axs[0, 0].set_title('Administrative')\n",
        "\n",
        "axs[0, 1].hist(shoppers['Administrative_Duration'].values)\n",
        "axs[0, 1].set_title('Administrative_Duration')\n",
        "\n",
        "axs[0, 2].hist(shoppers['Informational'].values)\n",
        "axs[0, 2].set_title('Informational')\n",
        "\n",
        "axs[0, 3].hist(shoppers['Informational_Duration'].values)\n",
        "axs[0, 3].set_title('Informational_Duration')\n",
        "\n",
        "axs[0, 4].hist(shoppers[ 'ProductRelated'].values)\n",
        "axs[0, 4].set_title( 'ProductRelated')\n",
        "\n",
        "axs[1, 0].hist(shoppers[ 'ExitRates'].values)\n",
        "axs[1, 0].set_title('ExitRates')\n",
        "\n",
        "\n",
        "axs[1, 1].hist(shoppers['BounceRates'].values)\n",
        "axs[1, 1].set_title('BounceRates')\n",
        "\n",
        "\n",
        "axs[1, 2].hist(shoppers[ 'PageValues'].values)\n",
        "axs[1, 2].set_title('PageValues')\n",
        "\n",
        "axs[1, 3].hist(shoppers['SpecialDay'].values)\n",
        "axs[1, 3].set_title('SpecialDay')\n",
        "\n",
        "axs[1, 4].hist(shoppers[ 'ProductRelated_Duration'].values)\n",
        "axs[1, 4].set_title('ProductRelated_Duration')\n",
        "\n",
        "for ax in fig.get_axes():\n",
        "    ax.label_outer()\n",
        "for ax in axs.flat:\n",
        "    ax.set_ylabel(\"Count\")\n"
      ],
      "execution_count": 18,
      "outputs": [
        {
          "output_type": "display_data",
          "data": {
            "image/png": "[encoded data removed]",
            "text/plain": [
              "<Figure size 1080x720 with 10 Axes>"
            ]
          },
          "metadata": {
            "tags": [],
            "needs_background": "light"
          }
        }
      ]
    },
    {
      "cell_type": "code",
      "metadata": {
        "id": "Fz6RQhPZeK_z",
        "colab_type": "code",
        "colab": {}
      },
      "source": [
        "shoppers=shoppers.rename(columns={\"Administrative_Duration\":\"AdminDuration\",\"Informational_Duration\":\"InforDuration\",\"ProductRelated_Duration\":\"ProductDuration\"})"
      ],
      "execution_count": 0,
      "outputs": []
    },
    {
      "cell_type": "code",
      "metadata": {
        "id": "YRpFCxdkiwVl",
        "colab_type": "code",
        "colab": {}
      },
      "source": [
        "shoppers = shoppers.assign(revenue = shoppers['Revenue']*1)\n",
        "shoppers = shoppers.drop(columns = {'Revenue'})\n"
      ],
      "execution_count": 0,
      "outputs": []
    },
    {
      "cell_type": "code",
      "metadata": {
        "id": "pKDETXkjV17W",
        "colab_type": "code",
        "outputId": "12ce6f19-c526-4ceb-e8c3-96100559fd1f",
        "colab": {
          "base_uri": "https://localhost:8080/",
          "height": 68
        }
      },
      "source": [
        "#Cross Validation\n",
        "shoppers = shuffle(shoppers)\n",
        "# Training set: 80%\n",
        "train = shoppers[0:int(0.80*shoppers.shape[0])]\n",
        "# Validation set: 10%\n",
        "valid = shoppers[int(0.80*shoppers.shape[0]):int(0.90*shoppers.shape[0])]\n",
        "# Testing set: 10%\n",
        "test = shoppers[int(0.90*shoppers.shape[0]):]\n",
        "\n",
        "print(\"Train set:\",train.shape[0] )\n",
        "print(\"Valid set:\",valid.shape[0] )\n",
        "print(\"Test set:\", test.shape[0] )"
      ],
      "execution_count": 21,
      "outputs": [
        {
          "output_type": "stream",
          "text": [
            "Train set: 9864\n",
            "Valid set: 1233\n",
            "Test set: 1233\n"
          ],
          "name": "stdout"
        }
      ]
    },
    {
      "cell_type": "code",
      "metadata": {
        "id": "3-VYvjdMMl__",
        "colab_type": "code",
        "outputId": "1ff826f6-0b18-4530-e49e-3621bed7d0b0",
        "colab": {
          "base_uri": "https://localhost:8080/",
          "height": 193
        }
      },
      "source": [
        "train.head(4)"
      ],
      "execution_count": 22,
      "outputs": [
        {
          "output_type": "execute_result",
          "data": {
            "text/html": [
              "<div>\n",
              "<style scoped>\n",
              "    .dataframe tbody tr th:only-of-type {\n",
              "        vertical-align: middle;\n",
              "    }\n",
              "\n",
              "    .dataframe tbody tr th {\n",
              "        vertical-align: top;\n",
              "    }\n",
              "\n",
              "    .dataframe thead th {\n",
              "        text-align: right;\n",
              "    }\n",
              "</style>\n",
              "<table border=\"1\" class=\"dataframe\">\n",
              "  <thead>\n",
              "    <tr style=\"text-align: right;\">\n",
              "      <th></th>\n",
              "      <th>Administrative</th>\n",
              "      <th>AdminDuration</th>\n",
              "      <th>Informational</th>\n",
              "      <th>InforDuration</th>\n",
              "      <th>ProductRelated</th>\n",
              "      <th>ProductDuration</th>\n",
              "      <th>BounceRates</th>\n",
              "      <th>ExitRates</th>\n",
              "      <th>PageValues</th>\n",
              "      <th>SpecialDay</th>\n",
              "      <th>Month</th>\n",
              "      <th>OperatingSystems</th>\n",
              "      <th>Browser</th>\n",
              "      <th>Region</th>\n",
              "      <th>TrafficType</th>\n",
              "      <th>VisitorType</th>\n",
              "      <th>Weekend</th>\n",
              "      <th>revenue</th>\n",
              "    </tr>\n",
              "  </thead>\n",
              "  <tbody>\n",
              "    <tr>\n",
              "      <th>11736</th>\n",
              "      <td>2</td>\n",
              "      <td>51.0</td>\n",
              "      <td>3</td>\n",
              "      <td>68.75</td>\n",
              "      <td>227</td>\n",
              "      <td>12460.67006</td>\n",
              "      <td>0.007569</td>\n",
              "      <td>0.014820</td>\n",
              "      <td>0.000000</td>\n",
              "      <td>0.0</td>\n",
              "      <td>Nov</td>\n",
              "      <td>2</td>\n",
              "      <td>2</td>\n",
              "      <td>1</td>\n",
              "      <td>2</td>\n",
              "      <td>Returning_Visitor</td>\n",
              "      <td>False</td>\n",
              "      <td>0</td>\n",
              "    </tr>\n",
              "    <tr>\n",
              "      <th>10532</th>\n",
              "      <td>0</td>\n",
              "      <td>0.0</td>\n",
              "      <td>0</td>\n",
              "      <td>0.00</td>\n",
              "      <td>24</td>\n",
              "      <td>783.37500</td>\n",
              "      <td>0.000000</td>\n",
              "      <td>0.004167</td>\n",
              "      <td>15.756363</td>\n",
              "      <td>0.0</td>\n",
              "      <td>Nov</td>\n",
              "      <td>1</td>\n",
              "      <td>1</td>\n",
              "      <td>4</td>\n",
              "      <td>3</td>\n",
              "      <td>Returning_Visitor</td>\n",
              "      <td>False</td>\n",
              "      <td>1</td>\n",
              "    </tr>\n",
              "    <tr>\n",
              "      <th>5906</th>\n",
              "      <td>1</td>\n",
              "      <td>5.5</td>\n",
              "      <td>3</td>\n",
              "      <td>169.20</td>\n",
              "      <td>14</td>\n",
              "      <td>517.66000</td>\n",
              "      <td>0.011111</td>\n",
              "      <td>0.022222</td>\n",
              "      <td>50.183139</td>\n",
              "      <td>0.0</td>\n",
              "      <td>Jul</td>\n",
              "      <td>3</td>\n",
              "      <td>2</td>\n",
              "      <td>1</td>\n",
              "      <td>2</td>\n",
              "      <td>Returning_Visitor</td>\n",
              "      <td>True</td>\n",
              "      <td>0</td>\n",
              "    </tr>\n",
              "    <tr>\n",
              "      <th>1012</th>\n",
              "      <td>0</td>\n",
              "      <td>0.0</td>\n",
              "      <td>0</td>\n",
              "      <td>0.00</td>\n",
              "      <td>2</td>\n",
              "      <td>92.00000</td>\n",
              "      <td>0.000000</td>\n",
              "      <td>0.100000</td>\n",
              "      <td>0.000000</td>\n",
              "      <td>0.0</td>\n",
              "      <td>Mar</td>\n",
              "      <td>2</td>\n",
              "      <td>2</td>\n",
              "      <td>8</td>\n",
              "      <td>1</td>\n",
              "      <td>Returning_Visitor</td>\n",
              "      <td>False</td>\n",
              "      <td>0</td>\n",
              "    </tr>\n",
              "  </tbody>\n",
              "</table>\n",
              "</div>"
            ],
            "text/plain": [
              "       Administrative  AdminDuration  ...  Weekend  revenue\n",
              "11736               2           51.0  ...    False        0\n",
              "10532               0            0.0  ...    False        1\n",
              "5906                1            5.5  ...     True        0\n",
              "1012                0            0.0  ...    False        0\n",
              "\n",
              "[4 rows x 18 columns]"
            ]
          },
          "metadata": {
            "tags": []
          },
          "execution_count": 22
        }
      ]
    },
    {
      "cell_type": "code",
      "metadata": {
        "id": "6TPhD9CPb_uP",
        "colab_type": "code",
        "colab": {}
      },
      "source": [
        "def confusion_metric(y_test, y_pred):\n",
        "  from sklearn.metrics import confusion_matrix\n",
        "  import seaborn as sns\n",
        "  cm = confusion_matrix(y_test,y_pred)\n",
        "  class_names=['No Revenue','Revenue'] # name  of classes\n",
        "  fig, ax = plt.subplots()\n",
        "  tick_marks = np.arange(len(class_names))\n",
        "  plt.xticks(tick_marks, class_names)\n",
        "  plt.yticks(tick_marks, class_names)\n",
        "  # create heatmap\n",
        "  sns.heatmap(pd.DataFrame(cm), annot=True, cmap=\"Set3\" ,fmt='g')\n",
        "  ax.xaxis.set_label_position(\"top\")\n",
        "  plt.tight_layout()\n",
        "  plt.title('Confusion matrix', y=1.1)\n",
        "  plt.ylabel('Actual label')\n",
        "  plt.xlabel('Predicted label')"
      ],
      "execution_count": 0,
      "outputs": []
    },
    {
      "cell_type": "markdown",
      "metadata": {
        "colab_type": "text",
        "id": "FxhC6MGnU6fw"
      },
      "source": [
        "# **Logistic Regressions**"
      ]
    },
    {
      "cell_type": "markdown",
      "metadata": {
        "id": "N_ZHi5ZcvoDq",
        "colab_type": "text"
      },
      "source": [
        "####Lasso Logistic Regression\n",
        "\n",
        "---\n",
        "\n"
      ]
    },
    {
      "cell_type": "code",
      "metadata": {
        "id": "1fEyD0e-aFy9",
        "colab_type": "code",
        "outputId": "536760f4-d900-44b9-fb8f-b653009b2e4a",
        "colab": {
          "base_uri": "https://localhost:8080/",
          "height": 170
        }
      },
      "source": [
        "# Lasso Logistic Regression\n",
        "candidate_formula = \"revenue~ProductRelated+Administrative+AdminDuration\\\n",
        "                     +Informational+InforDuration+ProductDuration\\\n",
        "                      +BounceRates+ExitRates+PageValues+SpecialDay+C(Month)\\\n",
        "                     +C(OperatingSystems)+C(Browser)+C(Region)+C(TrafficType)+C(VisitorType)+C(Weekend)\"\n",
        "model1 = logit(formula = candidate_formula,data = train).fit_regularized(alpha=0, L1_wt=1)\n"
      ],
      "execution_count": 32,
      "outputs": [
        {
          "output_type": "stream",
          "text": [
            "/usr/local/lib/python3.6/dist-packages/statsmodels/discrete/discrete_model.py:1736: RuntimeWarning: overflow encountered in exp\n",
            "  return 1/(1+np.exp(-X))\n",
            "/usr/local/lib/python3.6/dist-packages/statsmodels/discrete/discrete_model.py:1789: RuntimeWarning: divide by zero encountered in log\n",
            "  return np.sum(np.log(self.cdf(q*np.dot(X,params))))\n"
          ],
          "name": "stderr"
        },
        {
          "output_type": "stream",
          "text": [
            "Optimization terminated successfully.    (Exit mode 0)\n",
            "            Current function value: 0.2903408057483724\n",
            "            Iterations: 451\n",
            "            Function evaluations: 472\n",
            "            Gradient evaluations: 451\n"
          ],
          "name": "stdout"
        }
      ]
    },
    {
      "cell_type": "code",
      "metadata": {
        "id": "QDoMuFcmuUpo",
        "colab_type": "code",
        "outputId": "f55a94ba-987c-4055-ce1d-c33d6413e9f5",
        "colab": {
          "base_uri": "https://localhost:8080/",
          "height": 51
        }
      },
      "source": [
        "print(\"AUC train:\",metrics.accuracy_score(train[\"revenue\"],model1.predict(train)>0.5))\n",
        "print(\"AUC valid:\",metrics.accuracy_score(valid[\"revenue\"],model1.predict(valid)>0.5))\n",
        "#print(\"AUC test:\",metrics.accuracy_score(test[\"revenue\"],model1.predict(test)>0.5))"
      ],
      "execution_count": 34,
      "outputs": [
        {
          "output_type": "stream",
          "text": [
            "AUC train: 0.8854420113544201\n",
            "AUC valid: 0.8864557988645579\n"
          ],
          "name": "stdout"
        }
      ]
    },
    {
      "cell_type": "code",
      "metadata": {
        "id": "9JrKaLCya65l",
        "colab_type": "code",
        "outputId": "b78ec73e-8d5e-4327-d6aa-79193c217bb2",
        "colab": {
          "base_uri": "https://localhost:8080/",
          "height": 325
        }
      },
      "source": [
        "confusion_metric(valid[\"revenue\"].values,model1.predict(valid)>0.5)"
      ],
      "execution_count": 35,
      "outputs": [
        {
          "output_type": "display_data",
          "data": {
            "image/png": "[encoded data removed]",
            "text/plain": [
              "<Figure size 432x288 with 2 Axes>"
            ]
          },
          "metadata": {
            "tags": [],
            "needs_background": "light"
          }
        }
      ]
    },
    {
      "cell_type": "markdown",
      "metadata": {
        "id": "VgQDtwmmyIdx",
        "colab_type": "text"
      },
      "source": [
        "####Lasso Logistic Regression with Undersampling\n",
        "\n",
        "---\n",
        "\n"
      ]
    },
    {
      "cell_type": "code",
      "metadata": {
        "id": "qRYDKXS7vwBo",
        "colab_type": "code",
        "outputId": "df73bf67-271f-4810-c569-fe9748e7e266",
        "colab": {
          "base_uri": "https://localhost:8080/",
          "height": 170
        }
      },
      "source": [
        "from sklearn.utils import resample\n",
        "\n",
        "train_revenue = train[train['revenue']==1]\n",
        "train_norevenue = train[train['revenue']==0]\n",
        "\n",
        "train_norevenue_under = train_norevenue.sample(len(train_revenue),replace = False)\n",
        "train_under = pd.concat([train_revenue, train_norevenue_under], axis=0)\n",
        "\n",
        "candidate_formula = \"revenue~ProductRelated+Administrative+AdminDuration\\\n",
        "                     +Informational+InforDuration+ProductDuration\\\n",
        "                      +BounceRates+ExitRates+PageValues+SpecialDay+C(Month)\\\n",
        "                     +C(OperatingSystems)+C(Browser)+C(Region)+C(TrafficType)+C(VisitorType)+C(Weekend)\"\n",
        "model2 = logit(formula = candidate_formula,data = train_under).fit_regularized(alpha=0, L1_wt=1)\n"
      ],
      "execution_count": 36,
      "outputs": [
        {
          "output_type": "stream",
          "text": [
            "/usr/local/lib/python3.6/dist-packages/statsmodels/discrete/discrete_model.py:1736: RuntimeWarning: overflow encountered in exp\n",
            "  return 1/(1+np.exp(-X))\n",
            "/usr/local/lib/python3.6/dist-packages/statsmodels/discrete/discrete_model.py:1789: RuntimeWarning: divide by zero encountered in log\n",
            "  return np.sum(np.log(self.cdf(q*np.dot(X,params))))\n"
          ],
          "name": "stderr"
        },
        {
          "output_type": "stream",
          "text": [
            "Optimization terminated successfully.    (Exit mode 0)\n",
            "            Current function value: 0.4110802336956482\n",
            "            Iterations: 515\n",
            "            Function evaluations: 537\n",
            "            Gradient evaluations: 515\n"
          ],
          "name": "stdout"
        }
      ]
    },
    {
      "cell_type": "code",
      "metadata": {
        "id": "ZmGCO1lL84m0",
        "colab_type": "code",
        "outputId": "407f8e1a-5d79-4481-b16a-4b8cb5df2a0f",
        "colab": {
          "base_uri": "https://localhost:8080/",
          "height": 51
        }
      },
      "source": [
        "print(\"AUC train:\",metrics.accuracy_score(train_under[\"revenue\"],model2.predict(train_under)>0.5))\n",
        "print(\"AUC valid:\",metrics.accuracy_score(valid[\"revenue\"],model2.predict(valid)>0.5))\n",
        "#print(\"AUC test:\",metrics.accuracy_score(test[\"revenue\"],model2.predict(test)>0.5))"
      ],
      "execution_count": 37,
      "outputs": [
        {
          "output_type": "stream",
          "text": [
            "AUC train: 0.8267487046632125\n",
            "AUC valid: 0.8256285482562855\n"
          ],
          "name": "stdout"
        }
      ]
    },
    {
      "cell_type": "code",
      "metadata": {
        "id": "5X7H8TbJbI7u",
        "colab_type": "code",
        "outputId": "04ccc075-f853-401a-dd84-bdd5de618b8c",
        "colab": {
          "base_uri": "https://localhost:8080/",
          "height": 325
        }
      },
      "source": [
        "confusion_metric(valid[\"revenue\"].values,model2.predict(valid)>0.5)"
      ],
      "execution_count": 38,
      "outputs": [
        {
          "output_type": "display_data",
          "data": {
            "image/png": "[encoded data removed]",
            "text/plain": [
              "<Figure size 432x288 with 2 Axes>"
            ]
          },
          "metadata": {
            "tags": [],
            "needs_background": "light"
          }
        }
      ]
    },
    {
      "cell_type": "markdown",
      "metadata": {
        "id": "Em6wqoAK9Dwc",
        "colab_type": "text"
      },
      "source": [
        "####Lasso Logistic Regression with Oversampling\n",
        "\n",
        "---"
      ]
    },
    {
      "cell_type": "code",
      "metadata": {
        "id": "0YscKEH79F-O",
        "colab_type": "code",
        "outputId": "119108c4-68df-476e-ba9f-95526fb4910e",
        "colab": {
          "base_uri": "https://localhost:8080/",
          "height": 170
        }
      },
      "source": [
        "from sklearn.utils import resample\n",
        "\n",
        "train_revenue_over = train_revenue.sample(len(train_norevenue),replace = True)\n",
        "train_over = pd.concat([train_norevenue, train_revenue_over], axis=0)\n",
        "\n",
        "candidate_formula = \"revenue~ProductRelated+Administrative+AdminDuration\\\n",
        "                     +Informational+InforDuration+ProductDuration\\\n",
        "                      +BounceRates+ExitRates+PageValues+SpecialDay+C(Month)\\\n",
        "                     +C(OperatingSystems)+C(Browser)+C(Region)+C(TrafficType)+C(VisitorType)+C(Weekend)\"\n",
        "model3 = logit(formula = candidate_formula,data = train_over).fit_regularized(alpha=0, L1_wt=1)\n"
      ],
      "execution_count": 39,
      "outputs": [
        {
          "output_type": "stream",
          "text": [
            "/usr/local/lib/python3.6/dist-packages/statsmodels/discrete/discrete_model.py:1736: RuntimeWarning: overflow encountered in exp\n",
            "  return 1/(1+np.exp(-X))\n",
            "/usr/local/lib/python3.6/dist-packages/statsmodels/discrete/discrete_model.py:1789: RuntimeWarning: divide by zero encountered in log\n",
            "  return np.sum(np.log(self.cdf(q*np.dot(X,params))))\n"
          ],
          "name": "stderr"
        },
        {
          "output_type": "stream",
          "text": [
            "Optimization terminated successfully.    (Exit mode 0)\n",
            "            Current function value: 0.41598037725506565\n",
            "            Iterations: 533\n",
            "            Function evaluations: 554\n",
            "            Gradient evaluations: 533\n"
          ],
          "name": "stdout"
        }
      ]
    },
    {
      "cell_type": "code",
      "metadata": {
        "id": "idIxqgcb-ho1",
        "colab_type": "code",
        "outputId": "2309d8a2-c25f-4f9a-b3a6-b829ad616d10",
        "colab": {
          "base_uri": "https://localhost:8080/",
          "height": 51
        }
      },
      "source": [
        "print(\"AUC train:\",metrics.accuracy_score(train_under[\"revenue\"],model3.predict(train_under)>0.5))\n",
        "print(\"AUC valid:\",metrics.accuracy_score(valid[\"revenue\"],model3.predict(valid)>0.5))\n",
        "#print(\"AUC test:\",metrics.accuracy_score(test[\"revenue\"],model3.predict(test)>0.5))"
      ],
      "execution_count": 41,
      "outputs": [
        {
          "output_type": "stream",
          "text": [
            "AUC train: 0.8273963730569949\n",
            "AUC valid: 0.8402270884022709\n"
          ],
          "name": "stdout"
        }
      ]
    },
    {
      "cell_type": "code",
      "metadata": {
        "id": "HRRfUctwbLDz",
        "colab_type": "code",
        "outputId": "1dd8e38f-eaae-4469-a8e7-9e2e62b69928",
        "colab": {
          "base_uri": "https://localhost:8080/",
          "height": 325
        }
      },
      "source": [
        "confusion_metric(valid[\"revenue\"].values,model3.predict(valid)>0.5)"
      ],
      "execution_count": 42,
      "outputs": [
        {
          "output_type": "display_data",
          "data": {
            "image/png": "[encoded data removed]",
            "text/plain": [
              "<Figure size 432x288 with 2 Axes>"
            ]
          },
          "metadata": {
            "tags": [],
            "needs_background": "light"
          }
        }
      ]
    },
    {
      "cell_type": "markdown",
      "metadata": {
        "id": "e4bdAd9f-qsz",
        "colab_type": "text"
      },
      "source": [
        "# Standardize Data"
      ]
    },
    {
      "cell_type": "code",
      "metadata": {
        "id": "ea4HXIhYA5te",
        "colab_type": "code",
        "colab": {}
      },
      "source": [
        "continuous_features = ['Administrative', 'AdminDuration', 'Informational', 'InforDuration',\n",
        "       'ProductRelated', 'ProductDuration', 'BounceRates', 'ExitRates',\n",
        "       'PageValues', 'SpecialDay']\n",
        "categorical_features = ['Month', 'OperatingSystems', 'Browser','Region', 'TrafficType', 'VisitorType', 'Weekend']\n"
      ],
      "execution_count": 0,
      "outputs": []
    },
    {
      "cell_type": "code",
      "metadata": {
        "id": "0JuYhhJWCg0I",
        "colab_type": "code",
        "colab": {}
      },
      "source": [
        "for col in categorical_features:\n",
        "    dummies = pd.get_dummies(shoppers[col], prefix=col)\n",
        "    shoppers = pd.concat([shoppers, dummies], axis=1)\n",
        "    shoppers.drop(col, axis=1, inplace=True)\n",
        "shoppers = shoppers.drop(columns = {'revenue'})\n"
      ],
      "execution_count": 0,
      "outputs": []
    },
    {
      "cell_type": "code",
      "metadata": {
        "id": "GocVIsRTqWlF",
        "colab_type": "code",
        "outputId": "d0b12c2e-92cd-4e14-b0b4-9323778753d7",
        "colab": {
          "base_uri": "https://localhost:8080/",
          "height": 34
        }
      },
      "source": [
        "shoppers.shape"
      ],
      "execution_count": 46,
      "outputs": [
        {
          "output_type": "execute_result",
          "data": {
            "text/plain": [
              "(12330, 75)"
            ]
          },
          "metadata": {
            "tags": []
          },
          "execution_count": 46
        }
      ]
    },
    {
      "cell_type": "code",
      "metadata": {
        "id": "PGY5DDcYIi5a",
        "colab_type": "code",
        "colab": {}
      },
      "source": [
        "# Training set: 80%\n",
        "Train = shoppers[0:int(0.80*shoppers.shape[0])]\n",
        "# Validation set: 10%\n",
        "Valid = shoppers[int(0.80*shoppers.shape[0]):int(0.90*shoppers.shape[0])]\n",
        "# Testing set: 10%\n",
        "Test = shoppers[int(0.90*shoppers.shape[0]):]\n"
      ],
      "execution_count": 0,
      "outputs": []
    },
    {
      "cell_type": "code",
      "metadata": {
        "id": "bqozDBZBNr2U",
        "colab_type": "code",
        "outputId": "ae2087dc-be45-46a2-d33f-014b021a42b3",
        "colab": {
          "base_uri": "https://localhost:8080/",
          "height": 340
        }
      },
      "source": [
        "features = Train.columns\n",
        "features"
      ],
      "execution_count": 47,
      "outputs": [
        {
          "output_type": "execute_result",
          "data": {
            "text/plain": [
              "Index(['Administrative', 'AdminDuration', 'Informational', 'InforDuration',\n",
              "       'ProductRelated', 'ProductDuration', 'BounceRates', 'ExitRates',\n",
              "       'PageValues', 'SpecialDay', 'Month_Aug', 'Month_Dec', 'Month_Feb',\n",
              "       'Month_Jul', 'Month_June', 'Month_Mar', 'Month_May', 'Month_Nov',\n",
              "       'Month_Oct', 'Month_Sep', 'OperatingSystems_1', 'OperatingSystems_2',\n",
              "       'OperatingSystems_3', 'OperatingSystems_4', 'OperatingSystems_5',\n",
              "       'OperatingSystems_6', 'OperatingSystems_7', 'OperatingSystems_8',\n",
              "       'Browser_1', 'Browser_2', 'Browser_3', 'Browser_4', 'Browser_5',\n",
              "       'Browser_6', 'Browser_7', 'Browser_8', 'Browser_9', 'Browser_10',\n",
              "       'Browser_11', 'Browser_12', 'Browser_13', 'Region_1', 'Region_2',\n",
              "       'Region_3', 'Region_4', 'Region_5', 'Region_6', 'Region_7', 'Region_8',\n",
              "       'Region_9', 'TrafficType_1', 'TrafficType_2', 'TrafficType_3',\n",
              "       'TrafficType_4', 'TrafficType_5', 'TrafficType_6', 'TrafficType_7',\n",
              "       'TrafficType_8', 'TrafficType_9', 'TrafficType_10', 'TrafficType_11',\n",
              "       'TrafficType_12', 'TrafficType_13', 'TrafficType_14', 'TrafficType_15',\n",
              "       'TrafficType_16', 'TrafficType_17', 'TrafficType_18', 'TrafficType_19',\n",
              "       'TrafficType_20', 'VisitorType_New_Visitor', 'VisitorType_Other',\n",
              "       'VisitorType_Returning_Visitor', 'Weekend_False', 'Weekend_True'],\n",
              "      dtype='object')"
            ]
          },
          "metadata": {
            "tags": []
          },
          "execution_count": 47
        }
      ]
    },
    {
      "cell_type": "markdown",
      "metadata": {
        "id": "A9P-6lztF7Ds",
        "colab_type": "text"
      },
      "source": [
        "# **KNeighborsClassifier**"
      ]
    },
    {
      "cell_type": "markdown",
      "metadata": {
        "id": "2ZunrY2x52rZ",
        "colab_type": "text"
      },
      "source": [
        "####KNeighborsClassifier \n",
        "\n",
        "---\n",
        "\n"
      ]
    },
    {
      "cell_type": "code",
      "metadata": {
        "id": "lKRxTOccF9Fu",
        "colab_type": "code",
        "outputId": "1b3a7f3a-4df4-4575-8152-bb798a1828f5",
        "colab": {
          "base_uri": "https://localhost:8080/",
          "height": 187
        }
      },
      "source": [
        "# Cross Validation find the optimal K\n",
        "\n",
        "from sklearn.neighbors import KNeighborsClassifier\n",
        "from sklearn.preprocessing import StandardScaler \n",
        "\n",
        "scaler=StandardScaler()\n",
        "scaler.fit(Train[features])\n",
        "\n",
        "train_s = scaler.transform(Train[features])\n",
        "valid_s =scaler.transform(Valid[features])\n",
        "test_s =scaler.transform(Test[features])\n",
        "\n",
        "for i in range(10):\n",
        "  model= KNeighborsClassifier(n_neighbors=i+1,weights =\"uniform\")\n",
        "  model.fit(train_s[::],train['revenue'])\n",
        "  prediction= model.predict(valid_s[::])\n",
        "  print(i+1, metrics.accuracy_score(valid['revenue'],prediction))\n",
        "\n",
        "\n",
        "  "
      ],
      "execution_count": 48,
      "outputs": [
        {
          "output_type": "stream",
          "text": [
            "1 0.8280616382806164\n",
            "2 0.8710462287104623\n",
            "3 0.862124898621249\n",
            "4 0.8653690186536902\n",
            "5 0.8596918085969181\n",
            "6 0.8653690186536902\n",
            "7 0.862124898621249\n",
            "8 0.8653690186536902\n",
            "9 0.8686131386861314\n",
            "10 0.8653690186536902\n"
          ],
          "name": "stdout"
        }
      ]
    },
    {
      "cell_type": "code",
      "metadata": {
        "id": "EpWXcGOiKaS0",
        "colab_type": "code",
        "outputId": "50391916-1f4f-4d02-ac10-ddae44bb9ce9",
        "colab": {
          "base_uri": "https://localhost:8080/",
          "height": 325
        }
      },
      "source": [
        "# pick n_neighbors = 7\n",
        "model4= KNeighborsClassifier(n_neighbors=5,weights =\"uniform\")\n",
        "model4.fit(train_s[::],train['revenue'])\n",
        "prediction= model4.predict(valid_s[::])\n",
        "\n",
        "confusion_metric(valid[\"revenue\"].values, prediction)"
      ],
      "execution_count": 49,
      "outputs": [
        {
          "output_type": "display_data",
          "data": {
            "image/png": "[encoded data removed]",
            "text/plain": [
              "<Figure size 432x288 with 2 Axes>"
            ]
          },
          "metadata": {
            "tags": [],
            "needs_background": "light"
          }
        }
      ]
    },
    {
      "cell_type": "markdown",
      "metadata": {
        "id": "mWSTE1tf570c",
        "colab_type": "text"
      },
      "source": [
        "####KNN Undersampling\n",
        "\n",
        "---\n",
        "\n"
      ]
    },
    {
      "cell_type": "code",
      "metadata": {
        "id": "aug47RBlPPlS",
        "colab_type": "code",
        "outputId": "7810920e-f7e9-44e7-e179-75812aab6742",
        "colab": {
          "base_uri": "https://localhost:8080/",
          "height": 71
        }
      },
      "source": [
        "from imblearn.under_sampling import TomekLinks\n",
        "\n",
        "tl = TomekLinks(return_indices=False, ratio='majority')\n",
        "Train_tl, Train_tl_y = tl.fit_sample(train_s, train['revenue'].values)"
      ],
      "execution_count": 50,
      "outputs": [
        {
          "output_type": "stream",
          "text": [
            "/usr/local/lib/python3.6/dist-packages/sklearn/utils/deprecation.py:87: FutureWarning: Function safe_indexing is deprecated; safe_indexing is deprecated in version 0.22 and will be removed in version 0.24.\n",
            "  warnings.warn(msg, category=FutureWarning)\n"
          ],
          "name": "stderr"
        }
      ]
    },
    {
      "cell_type": "code",
      "metadata": {
        "id": "HNwpcMhIYkvE",
        "colab_type": "code",
        "outputId": "a2b1a7d3-0e2d-4273-e9ce-f4208970f66f",
        "colab": {
          "base_uri": "https://localhost:8080/",
          "height": 187
        }
      },
      "source": [
        "for i in range(10):\n",
        "  model= KNeighborsClassifier(n_neighbors=i+1,weights =\"uniform\")\n",
        "  model.fit(Train_tl[::],Train_tl_y[::])\n",
        "  prediction= model.predict(valid_s[::])\n",
        "  print(i+1, metrics.accuracy_score(valid['revenue'],prediction))\n"
      ],
      "execution_count": 51,
      "outputs": [
        {
          "output_type": "stream",
          "text": [
            "1 0.7907542579075426\n",
            "2 0.8588807785888077\n",
            "3 0.8475263584752636\n",
            "4 0.8580697485806975\n",
            "5 0.8491484184914841\n",
            "6 0.8605028386050284\n",
            "7 0.8580697485806975\n",
            "8 0.8669910786699108\n",
            "9 0.8661800486618005\n",
            "10 0.8669910786699108\n"
          ],
          "name": "stdout"
        }
      ]
    },
    {
      "cell_type": "code",
      "metadata": {
        "id": "RvcM-_yEY7Ju",
        "colab_type": "code",
        "outputId": "222bc64f-89e9-45e5-fe48-23173a6aa3ae",
        "colab": {
          "base_uri": "https://localhost:8080/",
          "height": 325
        }
      },
      "source": [
        "# pick n_neighbors = 9\n",
        "model5= KNeighborsClassifier(n_neighbors=9,weights =\"uniform\")\n",
        "model5.fit(Train_tl[::],Train_tl_y[::])\n",
        "prediction= model5.predict(valid_s[::])\n",
        "\n",
        "confusion_metric(valid[\"revenue\"].values, prediction)"
      ],
      "execution_count": 52,
      "outputs": [
        {
          "output_type": "display_data",
          "data": {
            "image/png": "[encoded data removed]",
            "text/plain": [
              "<Figure size 432x288 with 2 Axes>"
            ]
          },
          "metadata": {
            "tags": [],
            "needs_background": "light"
          }
        }
      ]
    },
    {
      "cell_type": "markdown",
      "metadata": {
        "id": "56pMLn7PlNRf",
        "colab_type": "text"
      },
      "source": [
        "####KNN Oversampling\n",
        "\n",
        "---"
      ]
    },
    {
      "cell_type": "code",
      "metadata": {
        "id": "aHjhqP-FlfU8",
        "colab_type": "code",
        "outputId": "3fd0e279-c413-48df-8721-5cf2999841df",
        "colab": {
          "base_uri": "https://localhost:8080/",
          "height": 241
        }
      },
      "source": [
        "from imblearn.over_sampling import SMOTE\n",
        "\n",
        "smote = SMOTE(ratio='minority')\n",
        "Train_sm, Train_sm_y = smote.fit_sample(train_s, train['revenue'].values)\n",
        "\n",
        "\n",
        "for i in range(10):\n",
        "  model= KNeighborsClassifier(n_neighbors=i+1,weights =\"uniform\")\n",
        "  model.fit(Train_sm[::],Train_sm_y[::])\n",
        "  prediction= model.predict(valid_s[::])\n",
        "  print(i+1, metrics.accuracy_score(valid['revenue'],prediction))"
      ],
      "execution_count": 53,
      "outputs": [
        {
          "output_type": "stream",
          "text": [
            "/usr/local/lib/python3.6/dist-packages/sklearn/utils/deprecation.py:87: FutureWarning: Function safe_indexing is deprecated; safe_indexing is deprecated in version 0.22 and will be removed in version 0.24.\n",
            "  warnings.warn(msg, category=FutureWarning)\n"
          ],
          "name": "stderr"
        },
        {
          "output_type": "stream",
          "text": [
            "1 0.8118410381184104\n",
            "2 0.8215733982157339\n",
            "3 0.7510137875101379\n",
            "4 0.7793998377939984\n",
            "5 0.7169505271695052\n",
            "6 0.7469586374695864\n",
            "7 0.7072181670721817\n",
            "8 0.7291159772911597\n",
            "9 0.6877534468775345\n",
            "10 0.716139497161395\n"
          ],
          "name": "stdout"
        }
      ]
    },
    {
      "cell_type": "code",
      "metadata": {
        "id": "f1TsLH1ylpLu",
        "colab_type": "code",
        "outputId": "b172dfad-4fe7-45e7-d405-157e00deccde",
        "colab": {
          "base_uri": "https://localhost:8080/",
          "height": 325
        }
      },
      "source": [
        "# pick n_neighbors = 2\n",
        "model6= KNeighborsClassifier(n_neighbors=2,weights =\"uniform\")\n",
        "model6.fit(Train_sm[::],Train_sm_y[::])\n",
        "prediction= model6.predict(valid_s[::])\n",
        "\n",
        "confusion_metric(valid[\"revenue\"].values, prediction)"
      ],
      "execution_count": 54,
      "outputs": [
        {
          "output_type": "display_data",
          "data": {
            "image/png": "[encoded data removed]",
            "text/plain": [
              "<Figure size 432x288 with 2 Axes>"
            ]
          },
          "metadata": {
            "tags": [],
            "needs_background": "light"
          }
        }
      ]
    },
    {
      "cell_type": "markdown",
      "metadata": {
        "id": "PUr1CbHJXdYX",
        "colab_type": "text"
      },
      "source": [
        "####KNN SMOTETomek\n",
        "\n",
        "---"
      ]
    },
    {
      "cell_type": "code",
      "metadata": {
        "id": "Sj9aePuIX8wy",
        "colab_type": "code",
        "outputId": "0506a1fb-c9dd-4be0-8b04-e7b036cd6a9f",
        "colab": {
          "base_uri": "https://localhost:8080/",
          "height": 275
        }
      },
      "source": [
        "from imblearn.combine import SMOTETomek\n",
        "\n",
        "smt = SMOTETomek(ratio='auto')\n",
        "Train_smt, Train_smt_y = smt.fit_sample(train_s, train['revenue'].values)\n",
        "\n",
        "for i in range(10):\n",
        "  model= KNeighborsClassifier(n_neighbors=i+1,weights =\"uniform\")\n",
        "  model.fit(Train_smt[::],Train_smt_y[::])\n",
        "  prediction= model.predict(valid_s[::])\n",
        "  print(i+1, metrics.accuracy_score(valid['revenue'],prediction))"
      ],
      "execution_count": 56,
      "outputs": [
        {
          "output_type": "stream",
          "text": [
            "/usr/local/lib/python3.6/dist-packages/sklearn/utils/deprecation.py:87: FutureWarning: Function safe_indexing is deprecated; safe_indexing is deprecated in version 0.22 and will be removed in version 0.24.\n",
            "  warnings.warn(msg, category=FutureWarning)\n",
            "/usr/local/lib/python3.6/dist-packages/sklearn/utils/deprecation.py:87: FutureWarning: Function safe_indexing is deprecated; safe_indexing is deprecated in version 0.22 and will be removed in version 0.24.\n",
            "  warnings.warn(msg, category=FutureWarning)\n"
          ],
          "name": "stderr"
        },
        {
          "output_type": "stream",
          "text": [
            "1 0.8037307380373074\n",
            "2 0.8223844282238443\n",
            "3 0.7445255474452555\n",
            "4 0.7721005677210057\n",
            "5 0.7023519870235199\n",
            "6 0.7388483373884833\n",
            "7 0.6991078669910786\n",
            "8 0.7331711273317113\n",
            "9 0.6974858069748581\n",
            "10 0.7185725871857259\n"
          ],
          "name": "stdout"
        }
      ]
    },
    {
      "cell_type": "code",
      "metadata": {
        "id": "JY2koILNZtg_",
        "colab_type": "code",
        "outputId": "71932d17-2958-400c-a23b-e73392bd902b",
        "colab": {
          "base_uri": "https://localhost:8080/",
          "height": 325
        }
      },
      "source": [
        "# pick n_neighbors = 2\n",
        "model7= KNeighborsClassifier(n_neighbors=2,weights =\"uniform\")\n",
        "model7.fit(Train_smt[::],Train_smt_y[::])\n",
        "prediction= model7.predict(valid_s[::])\n",
        "\n",
        "confusion_metric(valid[\"revenue\"].values, prediction)"
      ],
      "execution_count": 57,
      "outputs": [
        {
          "output_type": "display_data",
          "data": {
            "image/png": "[encoded data removed]",
            "text/plain": [
              "<Figure size 432x288 with 2 Axes>"
            ]
          },
          "metadata": {
            "tags": [],
            "needs_background": "light"
          }
        }
      ]
    },
    {
      "cell_type": "markdown",
      "metadata": {
        "id": "bHZjrQ8makLv",
        "colab_type": "text"
      },
      "source": [
        "# **Random Forest**"
      ]
    },
    {
      "cell_type": "markdown",
      "metadata": {
        "id": "z6dZySXGfXTm",
        "colab_type": "text"
      },
      "source": [
        "####Random Forest\n",
        "\n",
        "---"
      ]
    },
    {
      "cell_type": "code",
      "metadata": {
        "id": "XqAMQeeZbYTd",
        "colab_type": "code",
        "outputId": "c4423822-e118-4b44-9755-ddca170887a5",
        "colab": {
          "base_uri": "https://localhost:8080/",
          "height": 187
        }
      },
      "source": [
        "from sklearn.ensemble import RandomForestClassifier\n",
        "from sklearn.preprocessing import StandardScaler \n",
        "\n",
        "\n",
        "for i in range(10):\n",
        "  model= RandomForestClassifier(max_depth=5,n_estimators=2000,bootstrap=False,max_features=i+1)\n",
        "  model.fit(train_s[::],train['revenue'])\n",
        "  prediction= model.predict(valid_s[::])\n",
        "  print(i+1, metrics.accuracy_score(valid['revenue'],prediction))\n"
      ],
      "execution_count": 0,
      "outputs": [
        {
          "output_type": "stream",
          "text": [
            "1 0.8353609083536091\n",
            "2 0.8353609083536091\n",
            "3 0.8353609083536091\n",
            "4 0.8353609083536091\n",
            "5 0.8353609083536091\n",
            "6 0.8353609083536091\n",
            "7 0.8353609083536091\n",
            "8 0.8475263584752636\n",
            "9 0.8532035685320357\n",
            "10 0.8678021086780211\n"
          ],
          "name": "stdout"
        }
      ]
    },
    {
      "cell_type": "code",
      "metadata": {
        "id": "uAmQla-ukq6D",
        "colab_type": "code",
        "outputId": "561a99be-8ba5-45f9-c445-0f318da06eac",
        "colab": {
          "base_uri": "https://localhost:8080/",
          "height": 325
        }
      },
      "source": [
        "# pick n_neighbors = 10\n",
        "model8= RandomForestClassifier(max_depth=5,n_estimators=2000,bootstrap=False,max_features=15)\n",
        "model8.fit(train_s[::],train['revenue'])\n",
        "\n",
        "prediction= model8.predict(valid_s[::])\n",
        "\n",
        "confusion_metric(valid[\"revenue\"].values, prediction)"
      ],
      "execution_count": 0,
      "outputs": [
        {
          "output_type": "display_data",
          "data": {
            "image/png": "[encoded data removed]",
            "text/plain": [
              "<Figure size 432x288 with 2 Axes>"
            ]
          },
          "metadata": {
            "tags": []
          }
        }
      ]
    },
    {
      "cell_type": "markdown",
      "metadata": {
        "id": "rnN3HNg_znc7",
        "colab_type": "text"
      },
      "source": [
        "####Random Forest Undersampling\n",
        "\n",
        "---"
      ]
    },
    {
      "cell_type": "code",
      "metadata": {
        "id": "MUymmNf3z1WZ",
        "colab_type": "code",
        "outputId": "2a9df879-7a87-49ab-e6b9-b90048c850bc",
        "colab": {
          "base_uri": "https://localhost:8080/",
          "height": 187
        }
      },
      "source": [
        "for i in range(10):\n",
        "  model= RandomForestClassifier(max_depth=5,n_estimators=2000,bootstrap=False,max_features=i+1)\n",
        "  model.fit(Train_tl[::],Train_tl_y[::])\n",
        "  prediction= model.predict(valid_s[::])\n",
        "  print(i+1, metrics.accuracy_score(valid['revenue'],prediction))"
      ],
      "execution_count": 0,
      "outputs": [
        {
          "output_type": "stream",
          "text": [
            "1 0.8353609083536091\n",
            "2 0.8353609083536091\n",
            "3 0.8353609083536091\n",
            "4 0.8353609083536091\n",
            "5 0.8353609083536091\n",
            "6 0.8353609083536091\n",
            "7 0.8394160583941606\n",
            "8 0.8491484184914841\n",
            "9 0.8661800486618005\n",
            "10 0.8718572587185726\n"
          ],
          "name": "stdout"
        }
      ]
    },
    {
      "cell_type": "code",
      "metadata": {
        "id": "_jqtlbcA0FmN",
        "colab_type": "code",
        "outputId": "006f6143-9aa9-4a1a-ae67-f143654aa867",
        "colab": {
          "base_uri": "https://localhost:8080/",
          "height": 325
        }
      },
      "source": [
        "# pick n_neighbors = 10\n",
        "model9= RandomForestClassifier(max_depth=5,n_estimators=2000,bootstrap=False,max_features=10)\n",
        "model9.fit(train_s[::],train['revenue'])\n",
        "\n",
        "prediction= model9.predict(valid_s[::])\n",
        "\n",
        "confusion_metric(valid[\"revenue\"].values, prediction)"
      ],
      "execution_count": 0,
      "outputs": [
        {
          "output_type": "display_data",
          "data": {
            "image/png": "[encoded data removed]",
            "text/plain": [
              "<Figure size 432x288 with 2 Axes>"
            ]
          },
          "metadata": {
            "tags": []
          }
        }
      ]
    },
    {
      "cell_type": "markdown",
      "metadata": {
        "id": "I18mVWxnzuCs",
        "colab_type": "text"
      },
      "source": [
        "####Random Forest Oversampling\n",
        "\n",
        "---"
      ]
    },
    {
      "cell_type": "code",
      "metadata": {
        "id": "tN3rmF9hz-Gw",
        "colab_type": "code",
        "outputId": "d74f2e00-0bac-439a-fbe1-93c6ff98fc4b",
        "colab": {
          "base_uri": "https://localhost:8080/",
          "height": 187
        }
      },
      "source": [
        "for i in range(10):\n",
        "  model= RandomForestClassifier(max_depth=5,n_estimators=2000,bootstrap=False,max_features=i+1)\n",
        "  model.fit(Train_sm[::],Train_sm_y[::])\n",
        "  prediction= model.predict(valid_s[::])\n",
        "  print(i+1, metrics.accuracy_score(valid['revenue'],prediction))"
      ],
      "execution_count": 0,
      "outputs": [
        {
          "output_type": "stream",
          "text": [
            "1 0.7558799675587997\n",
            "2 0.7931873479318735\n",
            "3 0.8021086780210868\n",
            "4 0.8313057583130575\n",
            "5 0.845904298459043\n",
            "6 0.8499594484995945\n",
            "7 0.8596918085969181\n",
            "8 0.8661800486618005\n",
            "9 0.8686131386861314\n",
            "10 0.8751013787510138\n"
          ],
          "name": "stdout"
        }
      ]
    },
    {
      "cell_type": "code",
      "metadata": {
        "id": "3e-b4wKR0oNs",
        "colab_type": "code",
        "outputId": "45b864ec-a959-490d-c9bf-6c1cc668bd6a",
        "colab": {
          "base_uri": "https://localhost:8080/",
          "height": 325
        }
      },
      "source": [
        "# pick n_neighbors = 10\n",
        "model10= RandomForestClassifier(max_depth=5,n_estimators=2000,bootstrap=False,max_features=10)\n",
        "model10.fit(train_s[::],train['revenue'])\n",
        "\n",
        "prediction= model10.predict(valid_s[::])\n",
        "\n",
        "confusion_metric(valid[\"revenue\"].values, prediction)"
      ],
      "execution_count": 0,
      "outputs": [
        {
          "output_type": "display_data",
          "data": {
            "image/png": "[encoded data removed]",
            "text/plain": [
              "<Figure size 432x288 with 2 Axes>"
            ]
          },
          "metadata": {
            "tags": []
          }
        }
      ]
    },
    {
      "cell_type": "markdown",
      "metadata": {
        "id": "AcUxG8bIzwc4",
        "colab_type": "text"
      },
      "source": [
        "####Random Forest SMOTETomek\n",
        " \n",
        "---"
      ]
    },
    {
      "cell_type": "code",
      "metadata": {
        "id": "taqdrkPP0Civ",
        "colab_type": "code",
        "outputId": "b108dc59-6356-4b14-a398-7b8bd200b2ad",
        "colab": {
          "base_uri": "https://localhost:8080/",
          "height": 187
        }
      },
      "source": [
        "for i in range(10):\n",
        "  model= RandomForestClassifier(max_depth=5,n_estimators=2000,bootstrap=False,max_features=i+1)\n",
        "  model.fit(Train_smt[::],Train_smt_y[::])\n",
        "  prediction= model.predict(valid_s[::])\n",
        "  print(i+1, metrics.accuracy_score(valid['revenue'],prediction))"
      ],
      "execution_count": 0,
      "outputs": [
        {
          "output_type": "stream",
          "text": [
            "1 0.754257907542579\n",
            "2 0.7761557177615572\n",
            "3 0.813463098134631\n",
            "4 0.8304947283049473\n",
            "5 0.8442822384428224\n",
            "6 0.8523925385239254\n",
            "7 0.8596918085969181\n",
            "8 0.862124898621249\n",
            "9 0.8718572587185726\n",
            "10 0.8734793187347932\n"
          ],
          "name": "stdout"
        }
      ]
    },
    {
      "cell_type": "code",
      "metadata": {
        "id": "G6HnFlZf0w2U",
        "colab_type": "code",
        "outputId": "a92f7b08-8d7e-43b4-fc3a-3523ecb8f9f1",
        "colab": {
          "base_uri": "https://localhost:8080/",
          "height": 325
        }
      },
      "source": [
        "# pick n_neighbors = 10\n",
        "model11= RandomForestClassifier(max_depth=5,n_estimators=2000,bootstrap=False,max_features=10)\n",
        "model11.fit(train_s[::],train['revenue'])\n",
        "\n",
        "prediction= model11.predict(valid_s[::])\n",
        "\n",
        "confusion_metric(valid[\"revenue\"].values, prediction)"
      ],
      "execution_count": 0,
      "outputs": [
        {
          "output_type": "display_data",
          "data": {
            "image/png": "[encoded data removed]",
            "text/plain": [
              "<Figure size 432x288 with 2 Axes>"
            ]
          },
          "metadata": {
            "tags": []
          }
        }
      ]
    }
  ]
}